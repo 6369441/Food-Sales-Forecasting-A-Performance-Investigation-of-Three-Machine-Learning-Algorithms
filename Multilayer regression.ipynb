{
 "cells": [
  {
   "cell_type": "code",
   "execution_count": null,
   "metadata": {
    "collapsed": true
   },
   "outputs": [],
   "source": [
    "import pandas as pd\n",
    "import numpy as np\n",
    "import os\n",
    "import time\n",
    "import matplotlib.pyplot as plt\n",
    "from sklearn.metrics import mean_squared_error, r2_score\n",
    "from sklearn.preprocessing import LabelEncoder\n",
    "\n",
    "#Change directory\n",
    "os.chdir(r\"C:\\Users\\Matome.Molokome\\Desktop\\Unisa\\2021\\HRCOS82 Research\\favorita-grocery-sales-forecasting\")\n",
    "\n",
    "#Load Data\n",
    "start_time = time.time()\n",
    "chunk = pd.read_csv('train.csv',dtype={\"id\": object, \"date\": object,\"store_nbr\": object,\"item_nbr\": object,\n",
    "                                         \"unit_sales\": float, \"onpromotion\": object\n",
    "                                        },chunksize=1000000)\n",
    "\n",
    "\n",
    "df = pd.concat(chunk)\n",
    "\n",
    "end_time = time.time()\n",
    "\n",
    "print (\"Completed in\",(end_time-start_time))\n",
    "\n",
    "\n",
    "#df.sample(10)"
   ]
  },
  {
   "cell_type": "code",
   "execution_count": null,
   "metadata": {
    "collapsed": true
   },
   "outputs": [],
   "source": [
    "df.sample(10)\n",
    "df.dtypes"
   ]
  },
  {
   "cell_type": "code",
   "execution_count": null,
   "metadata": {
    "collapsed": true
   },
   "outputs": [],
   "source": [
    "stores = pd.read_csv('stores.csv',dtype={\"store_nbr\": object})\n",
    "\n",
    "# creating instance of labelencoder\n",
    "labelencoder = LabelEncoder()\n",
    "# Assigning numerical values and storing in another column\n",
    "stores ['type_numeric'] = labelencoder.fit_transform(stores ['type'])\n",
    "stores ['city_numeric'] = labelencoder.fit_transform(stores ['city'])\n",
    "stores ['state_numeric'] = labelencoder.fit_transform(stores ['state'])\n",
    "stores"
   ]
  },
  {
   "cell_type": "code",
   "execution_count": null,
   "metadata": {
    "collapsed": true
   },
   "outputs": [],
   "source": [
    "oil = pd.read_csv('oil.csv')\n",
    "print(oil)\n",
    "oil.dtypes\n"
   ]
  },
  {
   "cell_type": "code",
   "execution_count": null,
   "metadata": {
    "collapsed": true
   },
   "outputs": [],
   "source": [
    "items = pd.read_csv('items.csv',dtype={\"item_nbr\": object})\n",
    "# creating instance of labelencoder\n",
    "labelencoder = LabelEncoder()\n",
    "# Assigning numerical values and storing in another column\n",
    "items ['family_numeric'] = labelencoder.fit_transform(items ['family'])\n",
    "print(items)\n",
    "items.dtypes\n"
   ]
  },
  {
   "cell_type": "code",
   "execution_count": null,
   "metadata": {
    "collapsed": true
   },
   "outputs": [],
   "source": [
    "transactions = pd.read_csv('transactions.csv', dtype={\"store_nbr\": object})\n",
    "print(transactions)\n",
    "transactions.dtypes"
   ]
  },
  {
   "cell_type": "code",
   "execution_count": null,
   "metadata": {
    "collapsed": true
   },
   "outputs": [],
   "source": [
    "holidays_events = pd.read_csv('holidays_events.csv')\n",
    "holidays_events ['Holiday'] = '1'\n",
    "print(holidays_events)\n",
    "holidays_events.dtypes"
   ]
  },
  {
   "cell_type": "code",
   "execution_count": null,
   "metadata": {
    "collapsed": true
   },
   "outputs": [],
   "source": [
    "#Filter Dataset\n",
    "traindata = df[df.date >= '2017-08-01']\n",
    "traindata.isnull().sum()"
   ]
  },
  {
   "cell_type": "code",
   "execution_count": null,
   "metadata": {
    "collapsed": true
   },
   "outputs": [],
   "source": [
    "#Encoding\n",
    "\n",
    "#Dictionary\n",
    "encoding_nums = {\"onpromotion\":     {\"True\": 1, \"False\": 0}}\n",
    "\n",
    "#FindandReplace\n",
    "traindata = traindata.replace(encoding_nums)"
   ]
  },
  {
   "cell_type": "code",
   "execution_count": null,
   "metadata": {
    "collapsed": true
   },
   "outputs": [],
   "source": [
    "traindata.sample(10)"
   ]
  },
  {
   "cell_type": "code",
   "execution_count": null,
   "metadata": {
    "collapsed": true
   },
   "outputs": [],
   "source": [
    "#Join Dimensions\n",
    "traindata = pd.merge(traindata, items, on='item_nbr', how='left')\n",
    "traindata = pd.merge(traindata, stores , on='store_nbr', how='left')\n",
    "traindata = pd.merge(traindata, holidays_events , on='date', how='left')\n",
    "traindata = pd.merge(traindata, oil , on='date', how='left')\n",
    "traindata = pd.merge(traindata, transactions , on= ['date','store_nbr'], how='left')\n",
    "\n",
    "\n",
    "traindata.sample(10)"
   ]
  },
  {
   "cell_type": "code",
   "execution_count": null,
   "metadata": {
    "collapsed": true
   },
   "outputs": [],
   "source": [
    "#drop columns\n",
    "traindata.drop(['id', 'family','type_y','locale','locale_name','description','transferred','state','city','type_x'],\n",
    "               axis=1,inplace=True)\n",
    "traindata.sample(10)\n"
   ]
  },
  {
   "cell_type": "code",
   "execution_count": null,
   "metadata": {
    "collapsed": true
   },
   "outputs": [],
   "source": [
    "#Cleaning data \n",
    "\n",
    "#replace NAN with zero\n",
    "traindata['Holiday'] = traindata['Holiday'].fillna(0)\n",
    "\n",
    "\n"
   ]
  },
  {
   "cell_type": "code",
   "execution_count": null,
   "metadata": {
    "collapsed": true
   },
   "outputs": [],
   "source": [
    "traindata.sample(10)"
   ]
  },
  {
   "cell_type": "code",
   "execution_count": null,
   "metadata": {
    "collapsed": true
   },
   "outputs": [],
   "source": [
    "#Cleaning data \n",
    "#replace NAN with mean\n",
    "dcoilwtico_mean =traindata['dcoilwtico'].mean()\n",
    "traindata['dcoilwtico'] = traindata['dcoilwtico'].fillna(dcoilwtico_mean)"
   ]
  },
  {
   "cell_type": "code",
   "execution_count": null,
   "metadata": {
    "collapsed": true
   },
   "outputs": [],
   "source": [
    "#Check negative sales\n",
    "traindata[traindata['unit_sales'] < 0]"
   ]
  },
  {
   "cell_type": "code",
   "execution_count": null,
   "metadata": {
    "collapsed": true
   },
   "outputs": [],
   "source": [
    "#cleaning Data\n",
    "# Drop Negative sales\n",
    "traindata.drop(traindata[traindata['unit_sales'] < 0].index, inplace = True)"
   ]
  },
  {
   "cell_type": "code",
   "execution_count": null,
   "metadata": {
    "collapsed": true
   },
   "outputs": [],
   "source": [
    "#Check negative sales\n",
    "traindata[traindata['unit_sales'] < 0]"
   ]
  },
  {
   "cell_type": "code",
   "execution_count": null,
   "metadata": {
    "collapsed": true
   },
   "outputs": [],
   "source": [
    "traindata.sample(10)"
   ]
  },
  {
   "cell_type": "code",
   "execution_count": 33,
   "metadata": {},
   "outputs": [
    {
     "data": {
      "text/html": [
       "<div>\n",
       "<style>\n",
       "    .dataframe thead tr:only-child th {\n",
       "        text-align: right;\n",
       "    }\n",
       "\n",
       "    .dataframe thead th {\n",
       "        text-align: left;\n",
       "    }\n",
       "\n",
       "    .dataframe tbody tr th {\n",
       "        vertical-align: top;\n",
       "    }\n",
       "</style>\n",
       "<table border=\"1\" class=\"dataframe\">\n",
       "  <thead>\n",
       "    <tr style=\"text-align: right;\">\n",
       "      <th></th>\n",
       "      <th>date</th>\n",
       "      <th>store_nbr</th>\n",
       "      <th>item_nbr</th>\n",
       "      <th>unit_sales</th>\n",
       "      <th>onpromotion</th>\n",
       "      <th>class</th>\n",
       "      <th>perishable</th>\n",
       "      <th>family_numeric</th>\n",
       "      <th>cluster</th>\n",
       "      <th>type_numeric</th>\n",
       "      <th>city_numeric</th>\n",
       "      <th>state_numeric</th>\n",
       "      <th>Holiday</th>\n",
       "      <th>dcoilwtico</th>\n",
       "      <th>transactions</th>\n",
       "      <th>month</th>\n",
       "      <th>dayofthemonth</th>\n",
       "      <th>dayofweek</th>\n",
       "    </tr>\n",
       "  </thead>\n",
       "  <tbody>\n",
       "    <tr>\n",
       "      <th>1084938</th>\n",
       "      <td>2017-08-11</td>\n",
       "      <td>20</td>\n",
       "      <td>1040170</td>\n",
       "      <td>2.0</td>\n",
       "      <td>0</td>\n",
       "      <td>2222</td>\n",
       "      <td>0</td>\n",
       "      <td>11</td>\n",
       "      <td>6</td>\n",
       "      <td>1</td>\n",
       "      <td>18</td>\n",
       "      <td>12</td>\n",
       "      <td>1</td>\n",
       "      <td>48.810000</td>\n",
       "      <td>1751</td>\n",
       "      <td>8</td>\n",
       "      <td>11</td>\n",
       "      <td>4</td>\n",
       "    </tr>\n",
       "    <tr>\n",
       "      <th>278183</th>\n",
       "      <td>2017-08-03</td>\n",
       "      <td>36</td>\n",
       "      <td>564272</td>\n",
       "      <td>3.0</td>\n",
       "      <td>0</td>\n",
       "      <td>1016</td>\n",
       "      <td>0</td>\n",
       "      <td>12</td>\n",
       "      <td>10</td>\n",
       "      <td>4</td>\n",
       "      <td>11</td>\n",
       "      <td>6</td>\n",
       "      <td>0</td>\n",
       "      <td>49.030000</td>\n",
       "      <td>1090</td>\n",
       "      <td>8</td>\n",
       "      <td>3</td>\n",
       "      <td>3</td>\n",
       "    </tr>\n",
       "    <tr>\n",
       "      <th>250632</th>\n",
       "      <td>2017-08-03</td>\n",
       "      <td>19</td>\n",
       "      <td>108698</td>\n",
       "      <td>1.0</td>\n",
       "      <td>0</td>\n",
       "      <td>2644</td>\n",
       "      <td>1</td>\n",
       "      <td>9</td>\n",
       "      <td>15</td>\n",
       "      <td>2</td>\n",
       "      <td>7</td>\n",
       "      <td>1</td>\n",
       "      <td>0</td>\n",
       "      <td>49.030000</td>\n",
       "      <td>1010</td>\n",
       "      <td>8</td>\n",
       "      <td>3</td>\n",
       "      <td>3</td>\n",
       "    </tr>\n",
       "    <tr>\n",
       "      <th>624928</th>\n",
       "      <td>2017-08-06</td>\n",
       "      <td>46</td>\n",
       "      <td>2008562</td>\n",
       "      <td>7.0</td>\n",
       "      <td>0</td>\n",
       "      <td>3020</td>\n",
       "      <td>0</td>\n",
       "      <td>7</td>\n",
       "      <td>14</td>\n",
       "      <td>0</td>\n",
       "      <td>18</td>\n",
       "      <td>12</td>\n",
       "      <td>0</td>\n",
       "      <td>48.908317</td>\n",
       "      <td>4400</td>\n",
       "      <td>8</td>\n",
       "      <td>6</td>\n",
       "      <td>6</td>\n",
       "    </tr>\n",
       "    <tr>\n",
       "      <th>977329</th>\n",
       "      <td>2017-08-10</td>\n",
       "      <td>15</td>\n",
       "      <td>155610</td>\n",
       "      <td>2.0</td>\n",
       "      <td>0</td>\n",
       "      <td>1034</td>\n",
       "      <td>0</td>\n",
       "      <td>12</td>\n",
       "      <td>15</td>\n",
       "      <td>2</td>\n",
       "      <td>9</td>\n",
       "      <td>7</td>\n",
       "      <td>1</td>\n",
       "      <td>48.540000</td>\n",
       "      <td>1355</td>\n",
       "      <td>8</td>\n",
       "      <td>10</td>\n",
       "      <td>3</td>\n",
       "    </tr>\n",
       "    <tr>\n",
       "      <th>124357</th>\n",
       "      <td>2017-08-02</td>\n",
       "      <td>7</td>\n",
       "      <td>1229025</td>\n",
       "      <td>4.0</td>\n",
       "      <td>0</td>\n",
       "      <td>4176</td>\n",
       "      <td>0</td>\n",
       "      <td>25</td>\n",
       "      <td>8</td>\n",
       "      <td>3</td>\n",
       "      <td>18</td>\n",
       "      <td>12</td>\n",
       "      <td>0</td>\n",
       "      <td>49.600000</td>\n",
       "      <td>1849</td>\n",
       "      <td>8</td>\n",
       "      <td>2</td>\n",
       "      <td>2</td>\n",
       "    </tr>\n",
       "    <tr>\n",
       "      <th>35700</th>\n",
       "      <td>2017-08-01</td>\n",
       "      <td>18</td>\n",
       "      <td>2060910</td>\n",
       "      <td>20.0</td>\n",
       "      <td>1</td>\n",
       "      <td>1126</td>\n",
       "      <td>0</td>\n",
       "      <td>3</td>\n",
       "      <td>16</td>\n",
       "      <td>1</td>\n",
       "      <td>18</td>\n",
       "      <td>12</td>\n",
       "      <td>0</td>\n",
       "      <td>49.190000</td>\n",
       "      <td>1499</td>\n",
       "      <td>8</td>\n",
       "      <td>1</td>\n",
       "      <td>1</td>\n",
       "    </tr>\n",
       "    <tr>\n",
       "      <th>119693</th>\n",
       "      <td>2017-08-02</td>\n",
       "      <td>5</td>\n",
       "      <td>1146801</td>\n",
       "      <td>9.0</td>\n",
       "      <td>0</td>\n",
       "      <td>1040</td>\n",
       "      <td>0</td>\n",
       "      <td>12</td>\n",
       "      <td>4</td>\n",
       "      <td>3</td>\n",
       "      <td>21</td>\n",
       "      <td>14</td>\n",
       "      <td>0</td>\n",
       "      <td>49.600000</td>\n",
       "      <td>1411</td>\n",
       "      <td>8</td>\n",
       "      <td>2</td>\n",
       "      <td>2</td>\n",
       "    </tr>\n",
       "    <tr>\n",
       "      <th>1480677</th>\n",
       "      <td>2017-08-15</td>\n",
       "      <td>6</td>\n",
       "      <td>1960591</td>\n",
       "      <td>2.0</td>\n",
       "      <td>0</td>\n",
       "      <td>2074</td>\n",
       "      <td>1</td>\n",
       "      <td>30</td>\n",
       "      <td>13</td>\n",
       "      <td>3</td>\n",
       "      <td>18</td>\n",
       "      <td>12</td>\n",
       "      <td>1</td>\n",
       "      <td>47.570000</td>\n",
       "      <td>1589</td>\n",
       "      <td>8</td>\n",
       "      <td>15</td>\n",
       "      <td>1</td>\n",
       "    </tr>\n",
       "    <tr>\n",
       "      <th>729754</th>\n",
       "      <td>2017-08-07</td>\n",
       "      <td>46</td>\n",
       "      <td>1464239</td>\n",
       "      <td>1.0</td>\n",
       "      <td>0</td>\n",
       "      <td>1144</td>\n",
       "      <td>0</td>\n",
       "      <td>3</td>\n",
       "      <td>14</td>\n",
       "      <td>0</td>\n",
       "      <td>18</td>\n",
       "      <td>12</td>\n",
       "      <td>0</td>\n",
       "      <td>49.370000</td>\n",
       "      <td>3333</td>\n",
       "      <td>8</td>\n",
       "      <td>7</td>\n",
       "      <td>0</td>\n",
       "    </tr>\n",
       "  </tbody>\n",
       "</table>\n",
       "</div>"
      ],
      "text/plain": [
       "              date store_nbr item_nbr  unit_sales  onpromotion  class  \\\n",
       "1084938 2017-08-11        20  1040170         2.0            0   2222   \n",
       "278183  2017-08-03        36   564272         3.0            0   1016   \n",
       "250632  2017-08-03        19   108698         1.0            0   2644   \n",
       "624928  2017-08-06        46  2008562         7.0            0   3020   \n",
       "977329  2017-08-10        15   155610         2.0            0   1034   \n",
       "124357  2017-08-02         7  1229025         4.0            0   4176   \n",
       "35700   2017-08-01        18  2060910        20.0            1   1126   \n",
       "119693  2017-08-02         5  1146801         9.0            0   1040   \n",
       "1480677 2017-08-15         6  1960591         2.0            0   2074   \n",
       "729754  2017-08-07        46  1464239         1.0            0   1144   \n",
       "\n",
       "         perishable  family_numeric  cluster  type_numeric  city_numeric  \\\n",
       "1084938           0              11        6             1            18   \n",
       "278183            0              12       10             4            11   \n",
       "250632            1               9       15             2             7   \n",
       "624928            0               7       14             0            18   \n",
       "977329            0              12       15             2             9   \n",
       "124357            0              25        8             3            18   \n",
       "35700             0               3       16             1            18   \n",
       "119693            0              12        4             3            21   \n",
       "1480677           1              30       13             3            18   \n",
       "729754            0               3       14             0            18   \n",
       "\n",
       "         state_numeric Holiday  dcoilwtico  transactions  month  \\\n",
       "1084938             12       1   48.810000          1751      8   \n",
       "278183               6       0   49.030000          1090      8   \n",
       "250632               1       0   49.030000          1010      8   \n",
       "624928              12       0   48.908317          4400      8   \n",
       "977329               7       1   48.540000          1355      8   \n",
       "124357              12       0   49.600000          1849      8   \n",
       "35700               12       0   49.190000          1499      8   \n",
       "119693              14       0   49.600000          1411      8   \n",
       "1480677             12       1   47.570000          1589      8   \n",
       "729754              12       0   49.370000          3333      8   \n",
       "\n",
       "         dayofthemonth  dayofweek  \n",
       "1084938             11          4  \n",
       "278183               3          3  \n",
       "250632               3          3  \n",
       "624928               6          6  \n",
       "977329              10          3  \n",
       "124357               2          2  \n",
       "35700                1          1  \n",
       "119693               2          2  \n",
       "1480677             15          1  \n",
       "729754               7          0  "
      ]
     },
     "execution_count": 33,
     "metadata": {},
     "output_type": "execute_result"
    }
   ],
   "source": [
    "#Feature Engineering\n",
    "traindata['date'] = pd.to_datetime(traindata['date'], errors='coerce')\n",
    "traindata ['month'] = traindata['date'].dt.month\n",
    "traindata ['dayofthemonth'] = traindata['date'].dt.day\n",
    "traindata ['dayofweek'] = traindata['date'].dt.dayofweek\n",
    "traindata.sample(10)"
   ]
  },
  {
   "cell_type": "code",
   "execution_count": 35,
   "metadata": {},
   "outputs": [
    {
     "name": "stdout",
     "output_type": "stream",
     "text": [
      "Features:\n",
      "[[8 '1' '103520' 0 0 1028 12 13 3 18 12 0 49.19 1795 1 1]\n",
      " [8 '1' '103665' 0 1 2712 5 13 3 18 12 0 49.19 1795 1 1]\n",
      " [8 '1' '105574' 0 0 1045 12 13 3 18 12 0 49.19 1795 1 1]\n",
      " [8 '1' '105575' 0 0 1045 12 13 3 18 12 0 49.19 1795 1 1]\n",
      " [8 '1' '105693' 0 0 1034 12 13 3 18 12 0 49.19 1795 1 1]\n",
      " [8 '1' '105737' 0 0 1044 12 13 3 18 12 0 49.19 1795 1 1]\n",
      " [8 '1' '105857' 0 0 1092 12 13 3 18 12 0 49.19 1795 1 1]\n",
      " [8 '1' '106716' 0 0 1032 12 13 3 18 12 0 49.19 1795 1 1]\n",
      " [8 '1' '108079' 0 0 1030 12 13 3 18 12 0 49.19 1795 1 1]\n",
      " [8 '1' '108696' 0 1 2636 9 13 3 18 12 0 49.19 1795 1 1]]\n",
      "\n",
      "Labels:\n",
      "[ 3.  4.  8. 14.  1.  1.  6.  5.  2.  1.]\n"
     ]
    }
   ],
   "source": [
    "# Separate features and labels\n",
    "X, y = traindata[['month','store_nbr', 'item_nbr','onpromotion','perishable','class','family_numeric','cluster','type_numeric','city_numeric','state_numeric','Holiday','dcoilwtico','transactions','dayofthemonth','dayofweek']].values, traindata['unit_sales'].values\n",
    "print('Features:',X[:10], '\\nLabels:', y[:10], sep='\\n')"
   ]
  },
  {
   "cell_type": "code",
   "execution_count": 36,
   "metadata": {},
   "outputs": [
    {
     "name": "stdout",
     "output_type": "stream",
     "text": [
      "Training Set: 1099595 rows\n",
      "Test Set: 471255 rows\n"
     ]
    }
   ],
   "source": [
    "from sklearn.model_selection import train_test_split\n",
    "\n",
    "# Split data 70%-30% into training set and test set\n",
    "X_train, X_test, y_train, y_test = train_test_split(X, y, test_size=0.30, random_state=0)\n",
    "\n",
    "print ('Training Set: %d rows\\nTest Set: %d rows' % (X_train.shape[0], X_test.shape[0]))"
   ]
  },
  {
   "cell_type": "code",
   "execution_count": 42,
   "metadata": {},
   "outputs": [
    {
     "name": "stdout",
     "output_type": "stream",
     "text": [
      "Best parameter combination: {'learning_rate': 1.0, 'n_estimators': 150} \n",
      "\n",
      "GradientBoostingRegressor(learning_rate=1.0, n_estimators=150) \n",
      "\n",
      "MSE: 427.6161714396469\n",
      "RMSE: 20.67888225798597\n",
      "R2: 0.24392089203944722\n"
     ]
    },
    {
     "data": {
      "image/png": "[encoded data removed]",
      "text/plain": [
       "<Figure size 432x288 with 1 Axes>"
      ]
     },
     "metadata": {},
     "output_type": "display_data"
    }
   ],
   "source": [
    "# Train the model\n",
    "from sklearn.linear_model import LinearRegression\n",
    "\n",
    "# Fit a linear regression model on the training set\n",
    "model = LinearRegression().fit(X_train, y_train)\n",
    "print (model)\n",
    "#Visualise Traininign vs actual using scatter plot\n",
    "%matplotlib inline\n",
    "\n",
    "#Evaluation Matrics\n",
    "mse = mean_squared_error(y_test, predictions)\n",
    "print(\"MSE:\", mse)\n",
    "\n",
    "rmse = np.sqrt(mse)\n",
    "print(\"RMSE:\", rmse)\n",
    "\n",
    "r2 = r2_score(y_test, predictions)\n",
    "print(\"R2:\", r2)\n",
    " #Plot Predicted vs Actual\n",
    "plt.scatter(y_test, predictions)\n",
    "plt.xlabel('Actual Labels')\n",
    "plt.ylabel('Predicted Labels')\n",
    "plt.title('Resturant Sales Predictions')\n",
    "# overlay the regression line\n",
    "z = np.polyfit(y_test, predictions, 1)\n",
    "p = np.poly1d(z)\n",
    "plt.plot(y_test,p(y_test), color='magenta')\n",
    "plt.show()"
   ]
  }
 ],
 "metadata": {
  "kernelspec": {
   "display_name": "Python 3",
   "language": "python",
   "name": "python3"
  },
  "language_info": {
   "codemirror_mode": {
    "name": "ipython",
    "version": 3
   },
   "file_extension": ".py",
   "mimetype": "text/x-python",
   "name": "python",
   "nbconvert_exporter": "python",
   "pygments_lexer": "ipython3",
   "version": "3.6.3"
  }
 },
 "nbformat": 4,
 "nbformat_minor": 2
}
